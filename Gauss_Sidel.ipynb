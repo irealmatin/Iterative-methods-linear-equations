{
 "cells": [
  {
   "cell_type": "markdown",
   "metadata": {},
   "source": [
    "**Python code related to the numerical linear algebra lesson project -> a system of linear equations with Gauss-Seidel**\n",
    "\n",
    "***writer : Matin Mohammadi***\n",
    "\n",
    "***Professor's name: Dr. Tabrizi Doz***"
   ]
  },
  {
   "cell_type": "code",
   "execution_count": 1,
   "metadata": {},
   "outputs": [
    {
     "name": "stdout",
     "output_type": "stream",
     "text": [
      "Iteration 1:[5.8  4.28 1.44]\n",
      "Iteration 2:[4.088  4.3888 1.2224]\n",
      "Iteration 3:[4.04448 4.49325 1.0135 ]\n",
      "Iteration 4:[4.0027  4.59352 0.81296]\n",
      "Iteration 5:[3.96259 4.68978 0.62044]\n",
      "Iteration 6:[3.92409 4.78219 0.43562]\n",
      "Iteration 7:[3.88712 4.8709  0.2582 ]\n",
      "Iteration 8:[3.85164 4.95606 0.08787]\n",
      "Iteration 9:[ 3.81758  5.03782 -0.07564]\n",
      "Iteration 10:[ 3.78487  5.11631 -0.23261]\n",
      "Iteration 11:[ 3.75348  5.19165 -0.38331]\n",
      "Iteration 12:[ 3.72334  5.26399 -0.52798]\n",
      "Iteration 13:[ 3.6944   5.33343 -0.66686]\n",
      "Iteration 14:[ 3.66663  5.40009 -0.80019]\n",
      "Iteration 15:[ 3.63996  5.46409 -0.92818]\n",
      "Iteration 16:[ 3.61436  5.52553 -1.05105]\n",
      "Iteration 17:[ 3.58979  5.5845  -1.16901]\n",
      "Iteration 18:[ 3.5662   5.64112 -1.28225]\n",
      "Iteration 19:[ 3.54355  5.69548 -1.39096]\n",
      "Iteration 20:[ 3.52181  5.74766 -1.49532]\n",
      "Iteration 21:[ 3.50094  5.79775 -1.59551]\n",
      "Iteration 22:[ 3.4809   5.84584 -1.69169]\n",
      "Iteration 23:[ 3.46166  5.89201 -1.78402]\n",
      "Iteration 24:[ 3.4432   5.93633 -1.87266]\n",
      "Iteration 25:[ 3.42547  5.97888 -1.95775]\n"
     ]
    }
   ],
   "source": [
    "# Gauss-sidel\n",
    "import numpy as np\n",
    "# Define the system of equations\n",
    "a = np.array([[5, 2, 0],\n",
    "              [2, 5, 2],\n",
    "              [0, 2, 1]], dtype=float)\n",
    "\n",
    "b = np.array([29, 33, 10], dtype=float)\n",
    "\n",
    "# Initial guess\n",
    "x_initial = np.array([0, 0, 0], dtype=float)\n",
    "\n",
    "def gauss_sidel(a, x, b):\n",
    "    for num in range(len(a)):\n",
    "        tmp = b[num]\n",
    "        for a_i in range(len(a)):\n",
    "            if num != a_i:\n",
    "                tmp -= a[num][a_i] * x[a_i]\n",
    "        x[num] = tmp / a[num][num]\n",
    "    return x\n",
    "\n",
    "# Number of iterations\n",
    "iterations = 25\n",
    "\n",
    "# Running both functions\n",
    "x_seidel = x_initial.copy()\n",
    "\n",
    "for _ in range(iterations):\n",
    "    x_seidel = gauss_sidel(a, x_seidel, b)\n",
    "    x_seidel = np.round(x_seidel, 5)\n",
    "    print(f\"Iteration {_+1}:{x_seidel}\")\n"
   ]
  },
  {
   "cell_type": "markdown",
   "metadata": {},
   "source": []
  },
  {
   "cell_type": "code",
   "execution_count": null,
   "metadata": {},
   "outputs": [],
   "source": []
  }
 ],
 "metadata": {
  "kernelspec": {
   "display_name": "py310",
   "language": "python",
   "name": "python3"
  },
  "language_info": {
   "codemirror_mode": {
    "name": "ipython",
    "version": 3
   },
   "file_extension": ".py",
   "mimetype": "text/x-python",
   "name": "python",
   "nbconvert_exporter": "python",
   "pygments_lexer": "ipython3",
   "version": "3.10.13"
  }
 },
 "nbformat": 4,
 "nbformat_minor": 2
}
